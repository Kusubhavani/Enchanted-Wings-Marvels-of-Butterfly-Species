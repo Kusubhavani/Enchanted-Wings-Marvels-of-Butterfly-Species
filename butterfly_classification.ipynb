{
 "cells": [
  {
   "cell_type": "markdown",
   "metadata": {},
   "source": [
    "# 🦋 Butterfly Image Classification with Transfer Learning\n",
    "## Using VGG16 + Flask Web App"
   ]
  },
  {
   "cell_type": "markdown",
   "metadata": {},
   "source": [
    "## 📦 Install Dependencies (in terminal or Colab)\n",
    "```
!pip install kaggle tensorflow flask numpy pillow
```"
   ]
  },
  {
   "cell_type": "markdown",
   "metadata": {},
   "source": [
    "## 📥 Dataset Setup & Model Training\n",
    "Follow the code cells to download, prepare, train and save your model."
   ]
  }
 ],
 "metadata": {
  "kernelspec": {
   "display_name": "Python 3",
   "language": "python",
   "name": "python3"
  },
  "language_info": {
   "name": "python",
   "version": "3.8"
  }
 },
 "nbformat": 4,
 "nbformat_minor": 4
}